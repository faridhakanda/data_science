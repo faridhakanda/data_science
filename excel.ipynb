{
 "cells": [
  {
   "cell_type": "code",
   "execution_count": 4,
   "id": "7b337d80",
   "metadata": {},
   "outputs": [
    {
     "name": "stdout",
     "output_type": "stream",
     "text": [
      "   Unnamed: 0        Name  Age     Address\n",
      "0         NaN       Farid   27       Dhaka\n",
      "1         NaN       Tamim   42      Sydney\n",
      "2         NaN      Zaheed   42      Zurich\n",
      "3         NaN  Zulkernine   38  California\n",
      "4         NaN       Asraf   35      London\n",
      "5         NaN        Anam   44       Dhaka\n",
      "6         NaN       Sumit   44       Dhaka\n",
      "7         NaN     Sudipto   40  Washington\n"
     ]
    }
   ],
   "source": [
    "import pandas as pd\n",
    "data = pd.read_excel(io='data_set.xlsx', dtype={'Name ':object, 'Age':int, 'Address':object})\n",
    "print(data)"
   ]
  },
  {
   "cell_type": "code",
   "execution_count": 12,
   "id": "a0039705",
   "metadata": {},
   "outputs": [
    {
     "name": "stdout",
     "output_type": "stream",
     "text": [
      "   Unnamed: 0        Name  Age     Address\n",
      "0         NaN       Farid   27       Dhaka\n",
      "1         NaN       Tamim   42      Sydney\n",
      "2         NaN      Zaheed   42      Zurich\n",
      "3         NaN  Zulkernine   38  California\n",
      "4         NaN       Asraf   35      London\n",
      "5         NaN        Anam   44       Dhaka\n",
      "6         NaN       Sumit   44       Dhaka\n",
      "7         NaN     Sudipto   40  Washington\n"
     ]
    }
   ],
   "source": [
    "url = 'https://github.com/faridhakanda/data_store/raw/main/data_set.xlsx'\n",
    "information = pd.read_excel(url)\n",
    "print(information)"
   ]
  },
  {
   "cell_type": "code",
   "execution_count": null,
   "id": "c92a37f8",
   "metadata": {},
   "outputs": [],
   "source": []
  }
 ],
 "metadata": {
  "kernelspec": {
   "display_name": "Python 3 (ipykernel)",
   "language": "python",
   "name": "python3"
  },
  "language_info": {
   "codemirror_mode": {
    "name": "ipython",
    "version": 3
   },
   "file_extension": ".py",
   "mimetype": "text/x-python",
   "name": "python",
   "nbconvert_exporter": "python",
   "pygments_lexer": "ipython3",
   "version": "3.12.3"
  }
 },
 "nbformat": 4,
 "nbformat_minor": 5
}
